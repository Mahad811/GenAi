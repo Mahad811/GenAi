{
  "cells": [
    {
      "cell_type": "raw",
      "metadata": {
        "vscode": {
          "languageId": "raw"
        }
      },
      "source": [
        "# Q1: CIFAR-10 CNN - Colab Runner\n",
        "\n",
        "This notebook sets up GPU, installs dependencies, runs ablation, trains the optimal model, evaluates on test set, visualizes feature maps, and zips outputs for download.\n",
        "\n",
        "- Make sure to pick GPU: Runtime → Change runtime type → GPU\n",
        "- Choose ONE of the three project setup paths below: Google Drive, GitHub clone, or Zip upload.\n"
      ]
    },
    {
      "cell_type": "code",
      "execution_count": null,
      "metadata": {},
      "outputs": [],
      "source": [
        "# Check GPU\n",
        "import torch\n",
        "print('Torch:', torch.__version__)\n",
        "print('CUDA available:', torch.cuda.is_available())\n",
        "if torch.cuda.is_available():\n",
        "    print('GPU name:', torch.cuda.get_device_name(0))\n",
        "else:\n",
        "    print('Enable GPU in Runtime > Change runtime type')\n"
      ]
    },
    {
      "cell_type": "raw",
      "metadata": {
        "vscode": {
          "languageId": "raw"
        }
      },
      "source": [
        "## Project setup: choose one path below\n"
      ]
    },
    {
      "cell_type": "code",
      "execution_count": null,
      "metadata": {},
      "outputs": [],
      "source": [
        "# Option A: Mount Google Drive and use existing project in Drive (edit the path)\n",
        "from google.colab import drive\n",
        "import os\n",
        "\n",
        "drive.mount('/content/drive', force_remount=True)\n",
        "\n",
        "PROJECT_DIR = '/content/drive/MyDrive/your_project_path/genai_A1'  # <-- EDIT THIS\n",
        "Q1_DIR = os.path.join(PROJECT_DIR, 'Q1')\n",
        "\n",
        "%cd $Q1_DIR\n",
        "os.environ['PYTHONPATH'] = Q1_DIR\n",
        "!pwd && ls -la\n"
      ]
    },
    {
      "cell_type": "code",
      "execution_count": null,
      "metadata": {},
      "outputs": [],
      "source": [
        "# Option B: Clone from GitHub (replace with your repo URL)\n",
        "import os\n",
        "\n",
        "%cd /content\n",
        "!git clone https://github.com/your/repo.git genai_A1\n",
        "%cd /content/genai_A1/Q1\n",
        "os.environ['PYTHONPATH'] = '/content/genai_A1/Q1'\n",
        "!pwd && ls -la\n"
      ]
    },
    {
      "cell_type": "code",
      "execution_count": null,
      "metadata": {},
      "outputs": [],
      "source": [
        "# Option C: Upload a ZIP and unzip to /content\n",
        "from google.colab import files\n",
        "import os\n",
        "\n",
        "uploaded = files.upload()  # upload your project zip\n",
        "zip_name = list(uploaded.keys())[0]\n",
        "!unzip -o \"$zip_name\" -d /content\n",
        "%cd /content/genai_A1/Q1\n",
        "os.environ['PYTHONPATH'] = '/content/genai_A1/Q1'\n",
        "!pwd && ls -la\n"
      ]
    },
    {
      "cell_type": "code",
      "execution_count": null,
      "metadata": {},
      "outputs": [],
      "source": [
        "# Install dependencies\n",
        "%pip install -U pip\n",
        "%pip install -r /content/genai_A1/requirements.txt\n",
        "\n",
        "# Optional: Speed up HF datasets cache\n",
        "import os\n",
        "os.environ['HF_DATASETS_CACHE'] = '/content/hf_cache'\n",
        "!mkdir -p /content/hf_cache\n"
      ]
    },
    {
      "cell_type": "code",
      "execution_count": null,
      "metadata": {},
      "outputs": [],
      "source": [
        "# Ensure we are in Q1 dir and outputs exists\n",
        "import os, pathlib\n",
        "Q1_DIR = os.getcwd()\n",
        "print('Working dir:', Q1_DIR)\n",
        "os.makedirs('outputs', exist_ok=True)\n",
        "!ls -la\n"
      ]
    },
    {
      "cell_type": "code",
      "execution_count": null,
      "metadata": {},
      "outputs": [],
      "source": [
        "# 1) Run Ablation Study (adjust epochs for speed/quality)\n",
        "!python -m src.ablation_study --outdir outputs --epochs 10\n",
        "\n",
        "# Show ablation outputs\n",
        "!ls -la outputs | sed -n '1,120p'\n"
      ]
    },
    {
      "cell_type": "code",
      "execution_count": null,
      "metadata": {},
      "outputs": [],
      "source": [
        "# 2) Train with Optimal Hyperparameters and compare with Baseline\n",
        "!python -m src.train_optimal --outdir outputs --epochs 20 --best_params_file outputs/best_hyperparameters.json\n",
        "\n",
        "# Preview comparison results\n",
        "import pandas as pd\n",
        "cmp = pd.read_csv('outputs/model_comparison.csv')\n",
        "cmp\n"
      ]
    },
    {
      "cell_type": "code",
      "execution_count": null,
      "metadata": {},
      "outputs": [],
      "source": [
        "# 3) Evaluate Optimal Model on Test Set\n",
        "!python -m src.evaluate --model_path outputs/optimal_model.pt --num_layers 3 --base_filters 32 --batch_size 64 --outdir outputs\n",
        "\n",
        "# Show metrics\n",
        "import pandas as pd\n",
        "metrics = pd.read_csv('outputs/metrics.csv')\n",
        "per_class = pd.read_csv('outputs/per_class_metrics.csv')\n",
        "metrics, per_class.head()\n"
      ]
    },
    {
      "cell_type": "code",
      "execution_count": null,
      "metadata": {},
      "outputs": [],
      "source": [
        "# 4) Visualize Feature Maps (uses outputs/best_model.pt by default)\n",
        "!python -m src.visualize_features --model_path outputs/optimal_model.pt --num_layers 3 --base_filters 32 --outdir outputs\n",
        "\n",
        "from IPython.display import Image, display\n",
        "print('Feature Maps:')\n",
        "display(Image('outputs/feature_maps.png'))\n",
        "print('Layer Activations:')\n",
        "display(Image('outputs/layer_activations.png'))\n"
      ]
    },
    {
      "cell_type": "code",
      "execution_count": null,
      "metadata": {},
      "outputs": [],
      "source": [
        "# 5) Zip and Download all outputs\n",
        "!zip -r /content/Q1_outputs.zip outputs\n",
        "from google.colab import files\n",
        "files.download('/content/Q1_outputs.zip')\n"
      ]
    }
  ],
  "metadata": {
    "language_info": {
      "name": "python"
    }
  },
  "nbformat": 4,
  "nbformat_minor": 2
}
