{
  "cells": [
    {
      "cell_type": "raw",
      "metadata": {
        "vscode": {
          "languageId": "raw"
        }
      },
      "source": [
        "# Q3: PixelRNN/CNN Implementation - Colab Runner\n",
        "\n",
        "This notebook implements and compares three generative models:\n",
        "- **PixelCNN**: Convolutional approach with masked convolutions\n",
        "- **Row LSTM**: LSTM processing rows with triangular receptive field\n",
        "- **Diagonal BiLSTM**: Bidirectional LSTM processing diagonals\n",
        "\n",
        "Based on \"Pixel Recurrent Neural Networks\" by van den Oord et al. (2016)\n"
      ]
    },
    {
      "cell_type": "raw",
      "metadata": {
        "vscode": {
          "languageId": "raw"
        }
      },
      "source": [
        "## Setup and Installation\n"
      ]
    },
    {
      "cell_type": "code",
      "execution_count": null,
      "metadata": {},
      "outputs": [],
      "source": [
        "# Install required packages\n",
        "%pip install torch torchvision matplotlib pandas seaborn numpy\n"
      ]
    },
    {
      "cell_type": "code",
      "execution_count": null,
      "metadata": {},
      "outputs": [],
      "source": [
        "# Check GPU availability\n",
        "import torch\n",
        "print(f\"CUDA available: {torch.cuda.is_available()}\")\n",
        "if torch.cuda.is_available():\n",
        "    print(f\"GPU: {torch.cuda.get_device_name(0)}\")\n",
        "    print(f\"Memory: {torch.cuda.get_device_properties(0).total_memory / 1024**3:.1f} GB\")\n"
      ]
    },
    {
      "cell_type": "raw",
      "metadata": {
        "vscode": {
          "languageId": "raw"
        }
      },
      "source": [
        "## Option A: Clone from GitHub\n"
      ]
    },
    {
      "cell_type": "code",
      "execution_count": null,
      "metadata": {},
      "outputs": [],
      "source": [
        "# Clone repository from GitHub\n",
        "!git clone https://github.com/Mahad811/GenAi.git\n",
        "%cd GenAi/Q3\n"
      ]
    },
    {
      "cell_type": "raw",
      "metadata": {
        "vscode": {
          "languageId": "raw"
        }
      },
      "source": [
        "## Training Models\n",
        "\n",
        "**Note**: Training all three models fully will take several hours. For demonstration, we use smaller configurations.\n"
      ]
    },
    {
      "cell_type": "code",
      "execution_count": null,
      "metadata": {},
      "outputs": [],
      "source": [
        "# Train PixelCNN (fastest and most stable)\n",
        "!python -m src.train \\\n",
        "    --model_type pixelcnn \\\n",
        "    --data_path cifar-10-python.tar.gz \\\n",
        "    --epochs 20 \\\n",
        "    --batch_size 64 \\\n",
        "    --lr 1e-3 \\\n",
        "    --hidden_channels 64 \\\n",
        "    --num_layers 8 \\\n",
        "    --outdir outputs \\\n",
        "    --print_freq 50\n"
      ]
    },
    {
      "cell_type": "code",
      "execution_count": null,
      "metadata": {},
      "outputs": [],
      "source": [
        "# Train Row LSTM\n",
        "!python -m src.train \\\n",
        "    --model_type row_lstm \\\n",
        "    --data_path cifar-10-python.tar.gz \\\n",
        "    --epochs 15 \\\n",
        "    --batch_size 32 \\\n",
        "    --lr 1e-3 \\\n",
        "    --hidden_channels 64 \\\n",
        "    --num_layers 4 \\\n",
        "    --outdir outputs \\\n",
        "    --print_freq 50\n"
      ]
    },
    {
      "cell_type": "code",
      "execution_count": null,
      "metadata": {},
      "outputs": [],
      "source": [
        "# Train Diagonal BiLSTM (most memory intensive)\n",
        "!python -m src.train \\\n",
        "    --model_type diagonal_bilstm \\\n",
        "    --data_path cifar-10-python.tar.gz \\\n",
        "    --epochs 10 \\\n",
        "    --batch_size 16 \\\n",
        "    --lr 1e-3 \\\n",
        "    --hidden_channels 32 \\\n",
        "    --num_layers 2 \\\n",
        "    --outdir outputs \\\n",
        "    --print_freq 25\n"
      ]
    },
    {
      "cell_type": "raw",
      "metadata": {
        "vscode": {
          "languageId": "raw"
        }
      },
      "source": [
        "## Model Evaluation and Comparison\n"
      ]
    },
    {
      "cell_type": "code",
      "execution_count": null,
      "metadata": {},
      "outputs": [],
      "source": [
        "# Run comprehensive evaluation\n",
        "!python -m src.evaluate \\\n",
        "    --data_path cifar-10-python.tar.gz \\\n",
        "    --model_dir outputs \\\n",
        "    --output_dir evaluation_results \\\n",
        "    --batch_size 32 \\\n",
        "    --num_samples 16\n"
      ]
    },
    {
      "cell_type": "code",
      "execution_count": null,
      "metadata": {},
      "outputs": [],
      "source": [
        "# Display results\n",
        "import pandas as pd\n",
        "import os\n",
        "from IPython.display import Image, display\n",
        "\n",
        "# Show model comparison\n",
        "if os.path.exists('evaluation_results/model_comparison.csv'):\n",
        "    results_df = pd.read_csv('evaluation_results/model_comparison.csv')\n",
        "    print(\"Model Comparison Results:\")\n",
        "    print(\"=\" * 50)\n",
        "    print(results_df.to_string(index=False))\n",
        "    \n",
        "    # Display comparison plots\n",
        "    if os.path.exists('evaluation_results/model_comparison.png'):\n",
        "        print(\"\\nModel Performance Comparison:\")\n",
        "        display(Image('evaluation_results/model_comparison.png'))\n",
        "        \n",
        "else:\n",
        "    print(\"Evaluation results not found. Please run evaluation first.\")\n"
      ]
    },
    {
      "cell_type": "code",
      "execution_count": null,
      "metadata": {},
      "outputs": [],
      "source": [
        "# Display generated samples from all models\n",
        "models = ['pixelcnn', 'row_lstm', 'diagonal_bilstm']\n",
        "\n",
        "for model in models:\n",
        "    sample_path = f'evaluation_results/{model}_samples.png'\n",
        "    if os.path.exists(sample_path):\n",
        "        print(f\"\\n{model.upper()} Generated Samples:\")\n",
        "        display(Image(sample_path))\n",
        "    else:\n",
        "        print(f\"Samples not found for {model}\")\n"
      ]
    }
  ],
  "metadata": {
    "language_info": {
      "name": "python"
    }
  },
  "nbformat": 4,
  "nbformat_minor": 2
}
